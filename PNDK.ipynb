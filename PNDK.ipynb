{
 "cells": [
  {
   "metadata": {},
   "cell_type": "raw",
   "source": "print(\"he\")",
   "id": "33f2e79e3654f16c"
  },
  {
   "metadata": {
    "ExecuteTime": {
     "end_time": "2024-11-10T14:20:54.290699Z",
     "start_time": "2024-11-10T14:20:54.281190Z"
    }
   },
   "cell_type": "code",
   "source": "print(\"Hello\")",
   "id": "15b61abb2acc1eb9",
   "outputs": [
    {
     "name": "stdout",
     "output_type": "stream",
     "text": [
      "Hello\n"
     ]
    }
   ],
   "execution_count": 1
  },
  {
   "metadata": {},
   "cell_type": "code",
   "outputs": [],
   "execution_count": null,
   "source": "",
   "id": "28751313f006f795"
  }
 ],
 "metadata": {
  "kernelspec": {
   "display_name": "Python 3",
   "language": "python",
   "name": "python3"
  },
  "language_info": {
   "codemirror_mode": {
    "name": "ipython",
    "version": 2
   },
   "file_extension": ".py",
   "mimetype": "text/x-python",
   "name": "python",
   "nbconvert_exporter": "python",
   "pygments_lexer": "ipython2",
   "version": "2.7.6"
  }
 },
 "nbformat": 4,
 "nbformat_minor": 5
}
